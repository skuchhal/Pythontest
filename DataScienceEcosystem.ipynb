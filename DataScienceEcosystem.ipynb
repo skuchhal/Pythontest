{
 "cells": [
  {
   "cell_type": "markdown",
   "id": "31891c5b-accd-4b28-a567-b59b9e49aec5",
   "metadata": {},
   "source": [
    "# Data Science Tools and Ecosystem"
   ]
  },
  {
   "cell_type": "markdown",
   "id": "a57d63dc-827c-4497-87dd-696b81ef8979",
   "metadata": {},
   "source": [
    "In this notebook, Data Science Tools and Ecosystem are summarized."
   ]
  },
  {
   "cell_type": "markdown",
   "id": "e98c3947-9e12-4285-9cfa-99253de1a50a",
   "metadata": {},
   "source": [
    "**Objectives:**\n",
    "- Popular Languages\n",
    "- Markdown\n",
    "- Arithmetic\n"
   ]
  },
  {
   "cell_type": "markdown",
   "id": "5761a8fb-95ef-4578-bc1c-9262685f2225",
   "metadata": {},
   "source": [
    "Some of the popular languages that Data Scientists use are:\n",
    "1. R\n",
    "2. Python\n",
    "3. SQL"
   ]
  },
  {
   "cell_type": "markdown",
   "id": "5e5127cb-3c0b-41dd-9cc9-a5384663eaf2",
   "metadata": {},
   "source": [
    "Some of the commonly used libraries used by Data Scientists include:\n",
    "1. Numpy\n",
    "2. Pandas\n",
    "3. Matplotlib"
   ]
  },
  {
   "cell_type": "markdown",
   "id": "1cdfb51e-1fb3-4046-b4cd-878538fc3041",
   "metadata": {},
   "source": [
    "Data Science Tools |\n",
    "------------------ |\n",
    "Jupyter Notebooks |\n",
    "Pytorch |\n",
    "MLFlow |"
   ]
  },
  {
   "cell_type": "markdown",
   "id": "23e3aa86-535a-4ab0-8c19-1d18668944fb",
   "metadata": {},
   "source": [
    "### Below are a few examples of evaluating arithmetic expressions in Python"
   ]
  },
  {
   "cell_type": "code",
   "execution_count": 16,
   "id": "d270f4bf-0b69-43e4-b2aa-36beb08252b3",
   "metadata": {},
   "outputs": [
    {
     "name": "stdout",
     "output_type": "stream",
     "text": [
      "17\n"
     ]
    }
   ],
   "source": [
    "a = (3*4)+5\n",
    "#This a simple arithmetic expression to mutiply then add integers\n",
    "\n",
    "print(a)"
   ]
  },
  {
   "cell_type": "code",
   "execution_count": 18,
   "id": "d9af88ff-7ff3-4e3d-8059-7841e85b16d9",
   "metadata": {},
   "outputs": [
    {
     "name": "stdout",
     "output_type": "stream",
     "text": [
      "3.3333333333333335\n"
     ]
    }
   ],
   "source": [
    "hours = 200/60\n",
    "#This will convert 200 minutes to hours by diving by 60\n",
    "print(hours)"
   ]
  },
  {
   "cell_type": "markdown",
   "id": "9530b866-b1d0-49df-a602-a1893a311c98",
   "metadata": {},
   "source": [
    "## Author\n",
    "Sarang Kuchhal"
   ]
  },
  {
   "cell_type": "code",
   "execution_count": null,
   "id": "85992263-85c4-4eae-93c4-52552bda9d96",
   "metadata": {},
   "outputs": [],
   "source": []
  },
  {
   "cell_type": "code",
   "execution_count": null,
   "id": "61d9a1fc-730e-4e3c-9d45-6c30eaa81c7a",
   "metadata": {},
   "outputs": [],
   "source": []
  },
  {
   "cell_type": "code",
   "execution_count": null,
   "id": "76bfb72c-3f71-44e8-97ae-1a5104d3b193",
   "metadata": {},
   "outputs": [],
   "source": []
  }
 ],
 "metadata": {
  "kernelspec": {
   "display_name": "Python 3 (ipykernel)",
   "language": "python",
   "name": "python3"
  },
  "language_info": {
   "codemirror_mode": {
    "name": "ipython",
    "version": 3
   },
   "file_extension": ".py",
   "mimetype": "text/x-python",
   "name": "python",
   "nbconvert_exporter": "python",
   "pygments_lexer": "ipython3",
   "version": "3.12.4"
  }
 },
 "nbformat": 4,
 "nbformat_minor": 5
}
